{
 "cells": [
  {
   "cell_type": "code",
   "execution_count": 32,
   "id": "9377f8ab-fc47-4749-8cc2-0f229317a51e",
   "metadata": {},
   "outputs": [],
   "source": [
    "#importing Libraries\n",
    "import numpy as np\n",
    "import pandas as pd\n",
    "from scipy.optimize import root_scalar\n",
    "from scipy import interpolate\n",
    "import plotly.graph_objects as go\n",
    "import plotly.figure_factory as ff\n",
    "import plotly.io as pio\n",
    "pio.renderers.default = 'iframe'"
   ]
  },
  {
   "cell_type": "code",
   "execution_count": null,
   "id": "aa475106-49dc-4148-b82e-c2b9e1c65061",
   "metadata": {},
   "outputs": [],
   "source": []
  },
  {
   "cell_type": "code",
   "execution_count": 33,
   "id": "31594b9f-834f-40db-83a8-59c84eabd5fb",
   "metadata": {},
   "outputs": [],
   "source": [
    "#Functions for curvature and graphing values\n",
    "x = np.linspace(0, 1, 200)\n",
    "alpha = (x/2 - 0.3)**2 + 0.05 \n",
    "beta = -alpha\n",
    "\n",
    "#Variables and Constants \n",
    "p_0i = 140 # kPa\n",
    "T_0i = 290 # K\n",
    "R = 287 # J/kgK\n",
    "c_p = 1006 # J/kgK\n",
    "g = 1.4\n",
    "shock_x = 0.8 \n",
    "throat_x = 0.6\n",
    "\n",
    "#Assuming flow is chocked, Mach number can be defined as 1\n",
    "M_t = 1"
   ]
  },
  {
   "cell_type": "code",
   "execution_count": 34,
   "id": "be66e20b-2a7f-41f5-a19d-86190d03feae",
   "metadata": {},
   "outputs": [],
   "source": [
    "#Function for area\n",
    "def area(x):\n",
    "    area = 2 * ((x/2 - 0.3)**2 + 0.05)\n",
    "    return area"
   ]
  },
  {
   "cell_type": "code",
   "execution_count": 35,
   "id": "2e202fcf-4ea6-489e-a69a-2deb4070358e",
   "metadata": {},
   "outputs": [],
   "source": [
    "#Finding the area at the throat, solving for Mach Number\n",
    "A_t = area(throat_x)\n",
    "\n",
    "# Define a mach function to calculate the roots of the area ratio mach relation set to zero\n",
    "def mach_function(M, x_pos):\n",
    "    A = area(x_pos)\n",
    "    return np.sqrt((1/M**2)*((2/(g+1))*(1+((g-1)/2)*M**2))**((g+1)/(g-1))) - A/A_t"
   ]
  },
  {
   "cell_type": "code",
   "execution_count": 36,
   "id": "348ab792-7f25-4b3e-b22e-00772180a0b2",
   "metadata": {},
   "outputs": [],
   "source": [
    "#Find Mach number at shock position, the minimum of the mach value at the entrance, and the mach number after the shock\n",
    "M_s_root = root_scalar(mach_function, args = (shock_x), x0 = 1, x1 = 2.5)\n",
    "M_s = M_s_root.root\n",
    "\n",
    "M_min_root = root_scalar(mach_function, args = (0), x0 = 0.2, x1 = 1)\n",
    "M_min = M_min_root.root\n",
    "\n",
    "M_as = np.sqrt(((g-1)*M_s**2 + 2)/(2*g*M_s**(2)-(g-1)))"
   ]
  },
  {
   "cell_type": "code",
   "execution_count": 37,
   "id": "f9e73da6-1128-4589-b709-6167aa446b97",
   "metadata": {},
   "outputs": [],
   "source": [
    "#Functions to calculate stagnation pressure before and after shock\n",
    "def stag_pressure(x_pos):\n",
    "    if x_pos < shock_x:\n",
    "        stag_pressure = p_0i       \n",
    "    else:\n",
    "        stag_pressure = p_0i * ((((g + 1) * M_s**2) / ((g - 1) * M_s**2 +2))**(g/(g - 1))) * ((g + 1) / (2*g* M_s**2 - (g -1)))**(1/(g-1))\n",
    "    return stag_pressure\n",
    "\n",
    "#Mass flow rate at the throat (M=1)\n",
    "m_dot = ((A_t)*(p_0i*1000)/(np.sqrt(T_0i)))*np.sqrt(g/R)*((g+1)/2)**(-(g+1)/(2*(g-1))) \n",
    "\n",
    "#Function for the roots of the mass flow rate equation set to zero\n",
    "def mach_function_as(M, x_pos):\n",
    "    A = area(x_pos)\n",
    "    p_0 = stag_pressure(x_pos)*1000\n",
    "    return (A*p_0/np.sqrt(T_0i))*(np.sqrt(g/R))*M*(1+((g-1)/2)*M**2)**(-(g+1)/(2*(g-1))) - m_dot"
   ]
  },
  {
   "cell_type": "code",
   "execution_count": 38,
   "id": "e75aed7c-0495-4b43-9f5e-83427b8b84e4",
   "metadata": {},
   "outputs": [],
   "source": [
    "#Function for calculateing Mach number at an x value\n",
    "\n",
    "def mach_number(x_pos):\n",
    "    if x_pos <= 0.5:\n",
    "        M_root = root_scalar(mach_function, args = (x_pos), x0 = M_min, x1 = 0.8)\n",
    "        M = M_root.root\n",
    "    elif 0.5 < x_pos <= throat_x: \n",
    "        M_root = root_scalar(mach_function, args = (x_pos), x0 = M_min, x1 = 1)\n",
    "        M = M_root.root\n",
    "    elif x_pos < shock_x:\n",
    "        M_root = root_scalar(mach_function, args = (x_pos), x0 = 1, x1 = M_s)\n",
    "        M = M_root.root\n",
    "    else: \n",
    "        M_root = root_scalar(mach_function_as, args = (x_pos), x0 = M_as, x1 = 0.2)\n",
    "        M = M_root.root\n",
    "    return M"
   ]
  },
  {
   "cell_type": "code",
   "execution_count": 39,
   "id": "b49be2a2-bbe9-4216-839d-501224d82ad5",
   "metadata": {},
   "outputs": [],
   "source": [
    "#Function for calculating static pressure\n",
    "def static_pressure(x_pos):\n",
    "    M = mach_number(x_pos)\n",
    "    p_0 = stag_pressure(x_pos)\n",
    "    static_pressure = p_0 * (1 + ((g - 1)/2)*M**2)**(-g/(g-1))\n",
    "    return static_pressure"
   ]
  },
  {
   "cell_type": "code",
   "execution_count": 40,
   "id": "45bbdd03-ed6b-4e87-846e-ac01293e220f",
   "metadata": {},
   "outputs": [],
   "source": [
    "#Function for calculating static temperature\n",
    "def static_temperature(x_pos):\n",
    "    M = mach_number(x_pos)\n",
    "    static_temperature = T_0i * (1 + ((g - 1)/2)*M**2)**(-1)\n",
    "    return static_temperature"
   ]
  },
  {
   "cell_type": "code",
   "execution_count": 41,
   "id": "676a0f53-2a68-4eae-a1ef-f9505605dee4",
   "metadata": {},
   "outputs": [],
   "source": [
    "#Function for calculating the speed of the particle based of position\n",
    "def speed(x_pos):\n",
    "    M = mach_number(x_pos)\n",
    "    T = static_temperature(x_pos)\n",
    "    a = np.sqrt(g*R*T)\n",
    "    v = M * a\n",
    "    return v"
   ]
  },
  {
   "cell_type": "code",
   "execution_count": 42,
   "id": "1c244adf-4dc2-4e88-b639-711267ffcf47",
   "metadata": {},
   "outputs": [],
   "source": [
    "#Using functions above, can find following fields of interest from the x value\n",
    "M_values = []\n",
    "p0_values = []\n",
    "p_values = []\n",
    "T_values = []\n",
    "v_values = []\n",
    "for x_val in x:\n",
    "    M_values.append(mach_number(x_val))\n",
    "    p0_values.append(stag_pressure(x_val))\n",
    "    p_values.append(static_pressure(x_val))\n",
    "    T_values.append(static_temperature(x_val))\n",
    "    v_values.append(speed(x_val))"
   ]
  },
  {
   "cell_type": "code",
   "execution_count": 43,
   "id": "5211eec7-4809-4b1e-b97c-ea8c1f4b32ae",
   "metadata": {},
   "outputs": [
    {
     "data": {
      "text/html": [
       "<iframe\n",
       "    scrolling=\"no\"\n",
       "    width=\"100%\"\n",
       "    height=\"545px\"\n",
       "    src=\"iframe_figures/figure_43.html\"\n",
       "    frameborder=\"0\"\n",
       "    allowfullscreen\n",
       "></iframe>\n"
      ]
     },
     "metadata": {},
     "output_type": "display_data"
    }
   ],
   "source": [
    "Can create a plot\n",
    "fig = go.Figure()\n",
    "\n",
    "fig.add_scatter(x=x, y=M_values, line_color = 'plum')\n",
    "fig.add_scatter(x=x, y=p0_values, line_color = 'mediumaquamarine', visible=False)\n",
    "fig.add_scatter(x=x, y=p_values, line_color = 'cornflowerblue', visible=False)\n",
    "fig.add_scatter(x=x, y=T_values, line_color = 'tomato', visible=False)\n",
    "fig.add_scatter(x=x, y=v_values, line_color = 'darkmagenta', visible=False)\n",
    "\n",
    "fig.update_layout(updatemenus = [dict(active=0, buttons = [dict(label='Mach Number', method='update', args=[{'visible':\n",
    "                  [True, False, False, False, False]}, {'yaxis':{'title':'Mach Number'}}]), dict(label='Stagnation Pressure',\n",
    "                  method='update', args=[{'visible': [False, True, False, False, False]}, {'yaxis':{'title':\n",
    "                  'Stagnation Pressure (kPa)'}}]), dict(label='Static Pressure', method='update', args=[{'visible': [False, \n",
    "                  False, True, False, False]}, {'yaxis':{'title':'Static Pressure (kPa)'}}]), dict(label='Static Temperature'\n",
    "                  , method='update', args=[{'visible': [False, False, False, True, False]}, {'yaxis':{'title':\n",
    "                  'Static Temperature (K)'}}]), dict(label='Velocity', method='update', args=[{'visible':[False, False, \n",
    "                  False, False, True]}, {'yaxis':{'title':'Velocity (m/s)'}}])])])\n",
    "\n",
    "fig.update_yaxes(title_text='Mach Number')\n",
    "fig.update_xaxes(title_text=\"x position\")\n",
    "fig.show()"
   ]
  },
  {
   "cell_type": "code",
   "execution_count": 44,
   "id": "5ac4be8a-5112-47d4-b3ec-ed71c3859254",
   "metadata": {},
   "outputs": [
    {
     "data": {
      "text/html": [
       "<iframe\n",
       "    scrolling=\"no\"\n",
       "    width=\"100%\"\n",
       "    height=\"545px\"\n",
       "    src=\"iframe_figures/figure_44.html\"\n",
       "    frameborder=\"0\"\n",
       "    allowfullscreen\n",
       "></iframe>\n"
      ]
     },
     "metadata": {},
     "output_type": "display_data"
    }
   ],
   "source": [
    "#Can create contour map from nozzle\n",
    "fig = go.Figure()\n",
    "\n",
    "fig.add_contour(z=[M_values, M_values], x=x, contours_coloring = 'heatmap', line_width = 0, colorscale = 'deep',\n",
    "                reversescale = True, colorbar=dict(title='Mach Number', titleside='right'))\n",
    "fig.add_contour(z=[p0_values, p0_values], x=x, contours_coloring ='heatmap', line_width = 0, colorscale = 'Teal', \n",
    "                visible = False, colorbar=dict(title='Stagnation Pressure (kPa)', titleside='right'))\n",
    "fig.add_contour(z=[p_values, p_values], x=x, contours_coloring = 'heatmap', line_width = 0, colorscale = 'viridis', \n",
    "                visible = False, colorbar=dict(title='Static Pressure (kPa)', titleside='right'))\n",
    "fig.add_contour(z=[T_values, T_values], x=x, contours_coloring = 'heatmap', line_width = 0, colorscale = 'blackbody', \n",
    "                reversescale = True, visible = False, colorbar=dict(title='Static Temperature (K)', titleside='right'))\n",
    "\n",
    "fig.add_scatter(x=x, y=alpha+0.15, line_color = 'white')\n",
    "fig.add_scatter(x=x, y=x-x+0.3, fill='tonexty', fillcolor='white', line_color='white')\n",
    "fig.add_scatter(x=x, y=beta+0.15, fill='tozeroy', fillcolor='white', line_color='white')\n",
    "\n",
    "fig.update_layout(showlegend=False, updatemenus=[dict(active=0, buttons = [dict(label='Mach Number', method='update', args=\n",
    "                  [{'visible':[True, False, False, False, True, True, True]}]), dict(label='Stagnation Pressure', \n",
    "                  method='update', args=[{'visible':[False, True, False, False, True, True,True]}]), dict(label=\n",
    "                  'Static Pressure', method='update', args=[{'visible':[False, False, True, False, True, True, True]}]),\n",
    "                  dict(label='Static Temperature', method='update', args=[{'visible':[False, False, False, True, True, True,\n",
    "                  True]}])], y=1.2, x=1.1)])\n",
    "\n",
    "fig.update_yaxes(range=[0, 0.3], showticklabels = False)\n",
    "fig.update_xaxes(title='x position')\n",
    "\n",
    "fig.show()\n"
   ]
  },
  {
   "cell_type": "code",
   "execution_count": 45,
   "id": "61eeda95-5e88-4305-ac5d-864dbfe36917",
   "metadata": {},
   "outputs": [],
   "source": [
    "#Interval of time between each x position\n",
    "dx = np.diff(x)\n",
    "vav = []\n",
    "for i in range(0, len(dx)):\n",
    "    av = sum(v_values[i: i+1]) / 2\n",
    "    vav.append(av)\n",
    "dt = dx / vav\n",
    "\n",
    "# find the time\n",
    "time = []\n",
    "for j in range(0, len(x)):\n",
    "    time.append(sum(dt[0:j]))\n",
    "    \n",
    "# interpolate using the x and time values then use the interpolation function to find x positions at equal intervals of time\n",
    "f = interpolate.interp1d(x=time, y=x)\n",
    "tnew = np.linspace(0, max(time), 500)\n",
    "xnew = f(tnew)"
   ]
  },
  {
   "cell_type": "code",
   "execution_count": 46,
   "id": "eee49fc9-d4c3-4ffa-bee0-5a2e8294a277",
   "metadata": {},
   "outputs": [
    {
     "data": {
      "text/html": [
       "<iframe\n",
       "    scrolling=\"no\"\n",
       "    width=\"100%\"\n",
       "    height=\"545px\"\n",
       "    src=\"iframe_figures/figure_46.html\"\n",
       "    frameborder=\"0\"\n",
       "    allowfullscreen\n",
       "></iframe>\n"
      ]
     },
     "metadata": {},
     "output_type": "display_data"
    }
   ],
   "source": [
    "# using the interpolated data we can animate how a particle would move through the nozzle\n",
    "fig = go.Figure()\n",
    "\n",
    "fig.add_scatter(x=x, y=np.zeros(500))\n",
    "fig.add_scatter(x=x, y=np.zeros(500), line_dash = 'dot', line_color = 'lightsteelblue')\n",
    "\n",
    "fig.add_scatter(x=x, y=alpha, line_color = 'black')\n",
    "fig.add_scatter(x=x, y=beta, line_color = 'black')\n",
    "fig.add_vline(x = shock_x, line_dash = 'dash', line_color = 'red', annotation_text = 'shock')\n",
    "fig.add_vline(x = throat_x, line_dash = 'dash', line_color = 'blue', annotation_text = 'throat')\n",
    "\n",
    "fig.update_layout(xaxis=dict(range=[0,1], autorange=False), yaxis=dict(range=[-0.15, 0.15], autorange=False), updatemenus=\n",
    "                  [dict(type='buttons', buttons=[dict(label='play', method='animate', args=[None, {'frame':{'duration':10}}])])])\n",
    "fig.update(frames = [go.Frame(data=[go.Scatter(x=[xnew[k]], y=[np.zeros(500)[k]], mode='markers', marker=dict(color='teal',\n",
    "                    size=10))]) for k in range(500)], layout_showlegend=False)\n",
    "\n",
    "fig.show()"
   ]
  },
  {
   "cell_type": "code",
   "execution_count": 47,
   "id": "59b9866b-0f71-4b1d-9391-5151ec2a2e88",
   "metadata": {},
   "outputs": [],
   "source": [
    "# define x and v values for 18 different positions to create arrows\n",
    "x_18 = np.linspace(0,1,18)\n",
    "v_18 = []\n",
    "for x_val in x_18:\n",
    "    v_18.append(speed(x_val) / 1000)\n",
    "    \n",
    "alpha_2 = (x_18/3 -0.2)**2 + 0.025\n",
    "beta_2 = -alpha_2\n",
    "slope_2 = 2*(x_18/3 - 0.2)/3 * abs(np.append(np.sin(np.arctan(np.diff(alpha_2) / np.diff(x_18))), 0))"
   ]
  },
  {
   "cell_type": "code",
   "execution_count": 48,
   "id": "77b3d1ae-16bc-481d-af3a-a825672d2088",
   "metadata": {},
   "outputs": [
    {
     "data": {
      "text/html": [
       "<iframe\n",
       "    scrolling=\"no\"\n",
       "    width=\"100%\"\n",
       "    height=\"545px\"\n",
       "    src=\"iframe_figures/figure_48.html\"\n",
       "    frameborder=\"0\"\n",
       "    allowfullscreen\n",
       "></iframe>\n"
      ]
     },
     "metadata": {},
     "output_type": "display_data"
    }
   ],
   "source": [
    "# create velocity vector field \n",
    "fig = ff.create_quiver(x=np.linspace(0,1,18), y=np.zeros(18), u=v_18, v=np.zeros(18), line_color = 'blue')\n",
    "fig2 = ff.create_quiver(x=x_18, y=alpha_2, u=v_18, v=slope_2, line_color = 'blue')\n",
    "fig3 = ff.create_quiver(x=x_18, y=beta_2, u=v_18, v=-slope_2, line_color = 'blue')\n",
    "\n",
    "fig.add_scatter(x=x, y=alpha, line_color = 'black')\n",
    "fig.add_scatter(x=x, y=beta, line_color='black')\n",
    "fig.update_layout(xaxis=dict(range=[0,1]), yaxis=dict(range=[-0.15, 0.15]), showlegend = False)\n",
    "\n",
    "fig.add_traces(data = fig2.data)\n",
    "fig.add_traces(data = fig3.data)\n",
    "fig.show()\n",
    "\n"
   ]
  },
  {
   "cell_type": "code",
   "execution_count": null,
   "id": "21899d81-e691-4166-8a3d-5c70d0bc5705",
   "metadata": {},
   "outputs": [],
   "source": []
  }
 ],
 "metadata": {
  "kernelspec": {
   "display_name": "Python 3 (ipykernel)",
   "language": "python",
   "name": "python3"
  },
  "language_info": {
   "codemirror_mode": {
    "name": "ipython",
    "version": 3
   },
   "file_extension": ".py",
   "mimetype": "text/x-python",
   "name": "python",
   "nbconvert_exporter": "python",
   "pygments_lexer": "ipython3",
   "version": "3.12.1"
  }
 },
 "nbformat": 4,
 "nbformat_minor": 5
}
